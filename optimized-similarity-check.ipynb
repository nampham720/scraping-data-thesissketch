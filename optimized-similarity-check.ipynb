{
 "cells": [
  {
   "cell_type": "markdown",
   "metadata": {},
   "source": [
    "# Simple plagiarism check \n",
    "### Note:  The app is able to check similarity only\n",
    "\n",
    "This is the sketch for the idea of my back-end thesis product (in progress for front-end and back-end).\n",
    "\n",
    "The use of for-loop has been minimalised to the maximum (since iteration requires a lot of memory space). \n",
    "\n",
    "### Agenda:\n",
    "* Open the document\n",
    "* Extract Hyperlinks (references)\n",
    "* Store the HyperLinks in the Local Database\n",
    "* Scrape data from each HyperLink\n",
    "* Compare the similarity between documents with:\n",
    "    * Jaccard Similarity\n",
    "    * Cosine Similarity (Tf-idf)\n",
    "    * Semantic Similarity (word2vec) with pretrained Google model\n",
    "    * Semantic Similarity (doc2vec): in progress\n",
    "\n",
    "### Future:\n",
    "* Improve the speed with big data\n",
    "* Return copied text\n",
    "\n",
    "#### Pretrained model: \n",
    "[GoogleNews-vectors-negative300.bin](https://code.google.com/archive/p/word2vec/)"
   ]
  },
  {
   "cell_type": "markdown",
   "metadata": {},
   "source": [
    "# Preparation"
   ]
  },
  {
   "cell_type": "code",
   "execution_count": 1,
   "metadata": {},
   "outputs": [
    {
     "name": "stderr",
     "output_type": "stream",
     "text": [
      "D:\\Users\\USER\\Anaconda3\\lib\\site-packages\\smart_open\\ssh.py:34: UserWarning: paramiko missing, opening SSH/SCP/SFTP paths will be disabled.  `pip install paramiko` to suppress\n",
      "  warnings.warn('paramiko missing, opening SSH/SCP/SFTP paths will be disabled.  `pip install paramiko` to suppress')\n",
      "D:\\Users\\USER\\Anaconda3\\lib\\site-packages\\gensim\\utils.py:1197: UserWarning: detected Windows; aliasing chunkize to chunkize_serial\n",
      "  warnings.warn(\"detected Windows; aliasing chunkize to chunkize_serial\")\n"
     ]
    }
   ],
   "source": [
    "import numpy as np\n",
    "import PyPDF2\n",
    "from docx.opc.constants import RELATIONSHIP_TYPE as RT\n",
    "from docx import Document\n",
    "import pymysql\n",
    "from bs4 import BeautifulSoup  \n",
    "import requests, io, re\n",
    "import string\n",
    "from nltk.tokenize import word_tokenize, TreebankWordTokenizer\n",
    "from nltk.corpus import stopwords, wordnet\n",
    "from sklearn.feature_extraction.text import TfidfVectorizer, CountVectorizer\n",
    "from nltk.stem import WordNetLemmatizer\n",
    "from sklearn.metrics.pairwise import cosine_similarity\n",
    "from gensim.models import KeyedVectors, Word2Vec\n",
    "from scipy import spatial"
   ]
  },
  {
   "cell_type": "code",
   "execution_count": 2,
   "metadata": {},
   "outputs": [],
   "source": [
    "def readFile(doc):\n",
    "    '''\n",
    "    Read a text file and return a string\n",
    "    '''\n",
    "    fullText = []\n",
    "    translator = str.maketrans('', '', '\\t\\n')\n",
    "    for para in doc.paragraphs:\n",
    "        fullText.append(para.text)\n",
    "    \n",
    "    return '\\n'.join(fullText).translate(translator)    "
   ]
  },
  {
   "cell_type": "code",
   "execution_count": 3,
   "metadata": {},
   "outputs": [],
   "source": [
    "def onlRefs(rels):\n",
    "    '''\n",
    "    Extract all the hyperlinks (references) in the document\n",
    "    '''\n",
    "    links = []\n",
    "    for rel in rels:\n",
    "        if rels[rel].reltype == RT.HYPERLINK:\n",
    "            links.append(rels[rel]._target)\n",
    "            \n",
    "    return links"
   ]
  },
  {
   "cell_type": "code",
   "execution_count": 4,
   "metadata": {},
   "outputs": [],
   "source": [
    "def readContent(link):    \n",
    "    '''\n",
    "    Depend on the website (pdf or regular html)\n",
    "    Open the file and scrape the data of 01 site\n",
    "    Libraries used: \n",
    "    bs4 -> BeautifulSoup \n",
    "    requests, io, re\n",
    "    '''\n",
    "    \n",
    "    string = []\n",
    "    translator = str.maketrans('', '', '\\n\\t')\n",
    "   \n",
    "    # if the link is a pdf\n",
    "    if (r'.pdf' in link.split('/')[-1]):\n",
    "        title = link.split('/')[-1]\n",
    "        response = requests.get(link)\n",
    "        raw_data = response.content\n",
    "        pdf_content = io.BytesIO(raw_data)\n",
    "        pdf_reader = PyPDF2.PdfFileReader(pdf_content)\n",
    "        for page in range(pdf_reader.numPages):\n",
    "            string.append(pdf_reader.getPage(page).extractText())\n",
    "        return link, title, ' '.join(string).translate(translator)\n",
    "    \n",
    "    # if not\n",
    "    else:\n",
    "        def scrape_data():\n",
    "            '''\n",
    "            Return title + content of a webpage \n",
    "            '''\n",
    "            page = requests.get(link)\n",
    "            title = BeautifulSoup(page.text, 'html.parser').head.title.contents\n",
    "            text = BeautifulSoup(page.text, 'html.parser').find_all('p')\n",
    "            for p in text:\n",
    "                string.append(p.get_text())\n",
    "            return link, title, ' '.join(string).replace(u'\\xa0', ' ').translate(translator)\n",
    "        \n",
    "        try:\n",
    "            return scrape_data()\n",
    "        \n",
    "        #some links need authentication\n",
    "        except:\n",
    "            \n",
    "            headers = {'User-Agent':'Mozilla/5.0'}             \n",
    "            #class AppURLopener(urllib.request.FancyURLopener):\n",
    "                #version = \"Mozilla/5.0\"\n",
    "            #opener = AppURLopener()\n",
    "            return scrape_data()"
   ]
  },
  {
   "cell_type": "code",
   "execution_count": 5,
   "metadata": {},
   "outputs": [],
   "source": [
    "def push_ref(link):\n",
    "    '''\n",
    "    Push (link, title, content) scraped from 01 website to local db\n",
    "    Library used: pymysql\n",
    "    '''\n",
    "    #Open database\n",
    "    db = pymysql.connect(host = '127.0.0.1',\n",
    "                          user = 'root',\n",
    "                           db = 'references')\n",
    "    \n",
    "    cursor = db.cursor()   \n",
    "    \n",
    "    #check distinct reference to add to the database\n",
    "    sql = \"INSERT INTO onlref (link, title, content) VALUES (%s, %s, %s)\"\n",
    "    \n",
    "    try:\n",
    "        cursor.execute(sql, readContent(link))\n",
    "    except:\n",
    "        pass\n",
    "\n",
    "    db.commit()\n",
    "    db.close()"
   ]
  },
  {
   "cell_type": "code",
   "execution_count": 6,
   "metadata": {},
   "outputs": [],
   "source": [
    "def get_data():\n",
    "    db = pymysql.connect(host = '127.0.0.1',\n",
    "                          user = 'root',\n",
    "                           db = 'references')\n",
    "    cursor = db.cursor()\n",
    "    sql = \"SELECT link, content FROM onlref\"\n",
    "    cursor.execute(sql)\n",
    "    \n",
    "    records = cursor.fetchall() #((link_1, content_1), (link_2, content_2), etc.)\n",
    "    \n",
    "    \n",
    "    #db.commit()\n",
    "    db.close()\n",
    "    \n",
    "    links = set([rec[0] for rec in records])\n",
    "    corpus = [rec[1] for rec in records]\n",
    "    \n",
    "    \n",
    "    return links, corpus"
   ]
  },
  {
   "cell_type": "code",
   "execution_count": 7,
   "metadata": {},
   "outputs": [],
   "source": [
    "def getToken(text):\n",
    "    '''\n",
    "    Tokenise + Omit punctuation\n",
    "    Libraries: \n",
    "        nltk.tokenize -> word_tokenize, \n",
    "        nltk.corpus -> stopwords,\n",
    "        string\n",
    "    '''\n",
    "    translator = str.maketrans('', '', string.punctuation)\n",
    "    stopWords = set(stopwords.words('english'))\n",
    "    tokens = word_tokenize(text)\n",
    "    tokens = [token.lower() for token in tokens]\n",
    "    filtered = [w for w in tokens if not w in stopWords]\n",
    "    \n",
    "    return ' '.join(filtered).translate(translator).split()"
   ]
  },
  {
   "cell_type": "code",
   "execution_count": 8,
   "metadata": {},
   "outputs": [],
   "source": [
    "def lemmatize_append(set_tokens):\n",
    "    '''\n",
    "    Return a set of all lemmatized words\n",
    "    '''\n",
    "    lmt = WordNetLemmatizer()\n",
    "    lemmatize_set = []\n",
    "    for wd in set_tokens:\n",
    "        lemmatize_set.append(lmt.lemmatize(wd))\n",
    "    return set(lemmatize_set)"
   ]
  },
  {
   "cell_type": "code",
   "execution_count": 9,
   "metadata": {},
   "outputs": [],
   "source": [
    "class Methods(object):\n",
    "    def __init__(self, document):\n",
    "        self.document = document\n",
    "        \n",
    "    def jaccard_similarity(self):\n",
    "        '''\n",
    "        Perform Jaccard Similarity\n",
    "        Disadvantage: lemmatize document everytime\n",
    "        '''\n",
    "        \n",
    "        doc = Document(self.document)\n",
    "        rels = doc.part.rels\n",
    "        tokens_a = set(getToken(readFile(doc)))\n",
    "        features = []\n",
    "        features.append(lemmatize_append(tokens_a))\n",
    "        \n",
    "        percentage = []\n",
    "        \n",
    "        db_links, db_contents = get_data()\n",
    "        \n",
    "        def jaccard(a, b, j):\n",
    "            return float(len(j)/(len(a) + len(b) - len(j)))\n",
    "\n",
    "        \n",
    "        #push new refs\n",
    "        for link in onlRefs(rels):\n",
    "            if not link in db_links:\n",
    "                push_ref(link)\n",
    "        \n",
    "        #first run when db is empty\n",
    "        if db_contents == []:\n",
    "            db_links, db_contents = get_data()\n",
    "        \n",
    "        #vectorize db_contents\n",
    "        for corpora in db_contents: \n",
    "            features.append(lemmatize_append(getToken(corpora)))\n",
    "        \n",
    "        #unite sets of tokens used for comparision\n",
    "        while len(features) > 2:\n",
    "            features[1] = features[1].union(features[-1])\n",
    "            features.pop()\n",
    "            \n",
    "        jac = features[0].intersection(features[-1])\n",
    "\n",
    "        return jaccard(features[0], features[-1], jac)*100\n",
    "        #return features\n",
    "    \n",
    "    def cosine_sim(self):\n",
    "        '''\n",
    "        Perform Cosine Similarity\n",
    "        '''\n",
    "\n",
    "        tokenizer = TreebankWordTokenizer()\n",
    "        vect = CountVectorizer()\n",
    "        vect.set_params(tokenizer=tokenizer.tokenize, stop_words='english')\n",
    "        doc = Document(self.document)\n",
    "        rels = doc.part.rels\n",
    "        db_links, db_contents = get_data()\n",
    "        \n",
    "        corpus = []\n",
    "        corpus.append(readFile(doc))\n",
    "\n",
    "        for link in onlRefs(rels):\n",
    "            if not link in db_links:\n",
    "                push_ref(link)\n",
    "            \n",
    "        for corpora in db_contents:\n",
    "            corpus.append(corpora)\n",
    "\n",
    "        tfidf = vect.fit_transform(corpus)\n",
    "        return (1 - cosine_similarity(tfidf)[0][1])*100\n",
    "    \n",
    "    def word_to_vec(self):\n",
    "        '''\n",
    "        Comparing the semantic similarity between documents.\n",
    "        Converting tokens to numeric vector using Google pretrained document.\n",
    "        Perform cosine similarity based on that.\n",
    "        '''\n",
    "        \n",
    "        #take only first 100k most frequent tokens\n",
    "        model = KeyedVectors.load_word2vec_format('D:/TUAS/GoogleNews-vectors-negative300.bin', binary=True, limit = 100000)\n",
    "        \n",
    "        doc = Document(self.document)\n",
    "        rels = doc.part.rels\n",
    "        result = []\n",
    "        db_links, db_contents = get_data()\n",
    "        \n",
    "        for link in onlRefs(rels):\n",
    "            if not link in db_links:\n",
    "                push_ref(link)\n",
    "        \n",
    "        def convert(corpora):\n",
    "            return np.mean([model[wd] for wd in getToken(corpora) if wd in model], axis=0)\n",
    "            \n",
    "        base_corpora = convert(readFile(doc))\n",
    "        \n",
    "        for corpora in db_contents:\n",
    "            cal = 1 - spatial.distance.cosine(base_corpora, convert(corpora))\n",
    "            result.append(cal)\n",
    "            \n",
    "        return np.mean(result)*100"
   ]
  },
  {
   "cell_type": "markdown",
   "metadata": {},
   "source": [
    "# Running test"
   ]
  },
  {
   "cell_type": "code",
   "execution_count": 10,
   "metadata": {},
   "outputs": [],
   "source": [
    "document = 'OrganisationalCourse.docx'"
   ]
  },
  {
   "cell_type": "code",
   "execution_count": 11,
   "metadata": {},
   "outputs": [],
   "source": [
    "#Instantiate an object\n",
    "method = Methods(document)"
   ]
  },
  {
   "cell_type": "markdown",
   "metadata": {},
   "source": [
    "### Calculate The similarity + executing time"
   ]
  },
  {
   "cell_type": "code",
   "execution_count": 12,
   "metadata": {},
   "outputs": [],
   "source": [
    "import time\n",
    "import pandas as pd"
   ]
  },
  {
   "cell_type": "markdown",
   "metadata": {},
   "source": [
    "### First run when db is empty"
   ]
  },
  {
   "cell_type": "code",
   "execution_count": 13,
   "metadata": {},
   "outputs": [
    {
     "name": "stderr",
     "output_type": "stream",
     "text": [
      "D:\\Users\\USER\\Anaconda3\\lib\\site-packages\\pymysql\\cursors.py:170: Warning: (1366, \"Incorrect string value: '\\\\xE2\\\\x98\\\\x85\\\\xE2\\\\x98\\\\x85...' for column 'content' at row 1\")\n",
      "  result = self._query(query)\n",
      "D:\\Users\\USER\\Anaconda3\\lib\\site-packages\\pymysql\\cursors.py:170: Warning: (1366, \"Incorrect string value: '\\\\xD0\\\\xB0 gre...' for column 'content' at row 1\")\n",
      "  result = self._query(query)\n",
      "Warning: (1366, \"Incorrect string value: '\\\\xEF\\\\xAC\\\\x81Int...' for column 'content' at row 1\") [cursors.py:170]\n"
     ]
    },
    {
     "data": {
      "text/html": [
       "<div>\n",
       "<style scoped>\n",
       "    .dataframe tbody tr th:only-of-type {\n",
       "        vertical-align: middle;\n",
       "    }\n",
       "\n",
       "    .dataframe tbody tr th {\n",
       "        vertical-align: top;\n",
       "    }\n",
       "\n",
       "    .dataframe thead th {\n",
       "        text-align: right;\n",
       "    }\n",
       "</style>\n",
       "<table border=\"1\" class=\"dataframe\">\n",
       "  <thead>\n",
       "    <tr style=\"text-align: right;\">\n",
       "      <th></th>\n",
       "      <th>Method</th>\n",
       "      <th>Run_time</th>\n",
       "      <th>Similarity (%)</th>\n",
       "    </tr>\n",
       "  </thead>\n",
       "  <tbody>\n",
       "    <tr>\n",
       "      <th>0</th>\n",
       "      <td>jaccard_similarity</td>\n",
       "      <td>26.865635</td>\n",
       "      <td>4.881603</td>\n",
       "    </tr>\n",
       "    <tr>\n",
       "      <th>1</th>\n",
       "      <td>cosine_sim</td>\n",
       "      <td>1.174329</td>\n",
       "      <td>11.223046</td>\n",
       "    </tr>\n",
       "    <tr>\n",
       "      <th>2</th>\n",
       "      <td>word_to_vec (semantic)</td>\n",
       "      <td>4.505424</td>\n",
       "      <td>92.569805</td>\n",
       "    </tr>\n",
       "  </tbody>\n",
       "</table>\n",
       "</div>"
      ],
      "text/plain": [
       "                   Method   Run_time  Similarity (%)\n",
       "0      jaccard_similarity  26.865635        4.881603\n",
       "1              cosine_sim   1.174329       11.223046\n",
       "2  word_to_vec (semantic)   4.505424       92.569805"
      ]
     },
     "execution_count": 13,
     "metadata": {},
     "output_type": "execute_result"
    }
   ],
   "source": [
    "#First run when db is empty\n",
    "run_time = []\n",
    "result = []\n",
    "tactics = ['jaccard_similarity', 'cosine_sim', 'word_to_vec (semantic)']\n",
    "\n",
    "def counting(method):\n",
    "    result.append(method)\n",
    "    end = time.time()\n",
    "    run_time.append(end-start)\n",
    "\n",
    "start = time.time()\n",
    "counting(method.jaccard_similarity())\n",
    "\n",
    "start = time.time()\n",
    "counting(method.cosine_sim())\n",
    "\n",
    "start = time.time()\n",
    "counting(method.word_to_vec())\n",
    "\n",
    "pd.DataFrame({\"Method\": tactics,\n",
    "             \"Run_time\": run_time,\n",
    "             \"Similarity (%)\": result})"
   ]
  },
  {
   "cell_type": "markdown",
   "metadata": {},
   "source": [
    "### Second run when db is filled"
   ]
  },
  {
   "cell_type": "code",
   "execution_count": 14,
   "metadata": {},
   "outputs": [
    {
     "data": {
      "text/html": [
       "<div>\n",
       "<style scoped>\n",
       "    .dataframe tbody tr th:only-of-type {\n",
       "        vertical-align: middle;\n",
       "    }\n",
       "\n",
       "    .dataframe tbody tr th {\n",
       "        vertical-align: top;\n",
       "    }\n",
       "\n",
       "    .dataframe thead th {\n",
       "        text-align: right;\n",
       "    }\n",
       "</style>\n",
       "<table border=\"1\" class=\"dataframe\">\n",
       "  <thead>\n",
       "    <tr style=\"text-align: right;\">\n",
       "      <th></th>\n",
       "      <th>Method</th>\n",
       "      <th>Run_time</th>\n",
       "      <th>Similarity (%)</th>\n",
       "    </tr>\n",
       "  </thead>\n",
       "  <tbody>\n",
       "    <tr>\n",
       "      <th>0</th>\n",
       "      <td>jaccard_similarity</td>\n",
       "      <td>2.636494</td>\n",
       "      <td>4.881603</td>\n",
       "    </tr>\n",
       "    <tr>\n",
       "      <th>1</th>\n",
       "      <td>cosine_sim</td>\n",
       "      <td>1.117357</td>\n",
       "      <td>11.223046</td>\n",
       "    </tr>\n",
       "    <tr>\n",
       "      <th>2</th>\n",
       "      <td>word_to_vec (semantic)</td>\n",
       "      <td>4.458456</td>\n",
       "      <td>92.569805</td>\n",
       "    </tr>\n",
       "  </tbody>\n",
       "</table>\n",
       "</div>"
      ],
      "text/plain": [
       "                   Method  Run_time  Similarity (%)\n",
       "0      jaccard_similarity  2.636494        4.881603\n",
       "1              cosine_sim  1.117357       11.223046\n",
       "2  word_to_vec (semantic)  4.458456       92.569805"
      ]
     },
     "execution_count": 14,
     "metadata": {},
     "output_type": "execute_result"
    }
   ],
   "source": [
    "#Second run when db is filled\n",
    "run_time = []\n",
    "result = []\n",
    "tactics = ['jaccard_similarity', 'cosine_sim', 'word_to_vec (semantic)']\n",
    "\n",
    "start = time.time()\n",
    "counting(method.jaccard_similarity())\n",
    "\n",
    "start = time.time()\n",
    "counting(method.cosine_sim())\n",
    "\n",
    "start = time.time()\n",
    "counting(method.word_to_vec())\n",
    "\n",
    "pd.DataFrame({\"Method\": tactics,\n",
    "             \"Run_time\": run_time,\n",
    "             \"Similarity (%)\": result})"
   ]
  },
  {
   "cell_type": "code",
   "execution_count": 15,
   "metadata": {},
   "outputs": [],
   "source": [
    "j_time = []\n",
    "cs_time = []\n",
    "w2v_time = []\n",
    "for i in range(10):\n",
    "    start = time.time()\n",
    "    method.jaccard_similarity()\n",
    "    end = time.time()\n",
    "    j_time.append(end-start)\n",
    "\n",
    "    start = time.time()\n",
    "    method.cosine_sim()\n",
    "    end = time.time()\n",
    "    cs_time.append(end-start)\n",
    "\n",
    "    start = time.time()\n",
    "    method.word_to_vec()\n",
    "    end = time.time()\n",
    "    w2v_time.append(end-start)"
   ]
  },
  {
   "cell_type": "code",
   "execution_count": 17,
   "metadata": {},
   "outputs": [
    {
     "name": "stdout",
     "output_type": "stream",
     "text": [
      "When db is added, average executing time of      \n",
      "Jaccard Similarity: 2.6192 sec      \n",
      "Cosine Similarity: 1.1446 sec      \n",
      "Word_to_vec (sematic): 4.1252 sec\n"
     ]
    }
   ],
   "source": [
    "print(\"When db is added, average executing time of\\\n",
    "      \\nJaccard Similarity: %.4f sec\\\n",
    "      \\nCosine Similarity: %.4f sec\\\n",
    "      \\nWord_to_vec (sematic): %.4f sec\" % (np.mean(j_time), np.mean(cs_time), np.mean(w2v_time)))"
   ]
  }
 ],
 "metadata": {
  "kernelspec": {
   "display_name": "Python 3",
   "language": "python",
   "name": "python3"
  },
  "language_info": {
   "codemirror_mode": {
    "name": "ipython",
    "version": 3
   },
   "file_extension": ".py",
   "mimetype": "text/x-python",
   "name": "python",
   "nbconvert_exporter": "python",
   "pygments_lexer": "ipython3",
   "version": "3.6.5"
  }
 },
 "nbformat": 4,
 "nbformat_minor": 2
}
