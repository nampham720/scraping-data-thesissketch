{
 "cells": [
  {
   "cell_type": "markdown",
   "metadata": {},
   "source": [
    "# Simple plagiarism check \n",
    "### Note:  The app is yet able to check similarity only\n",
    "\n",
    "This is the sketch for the idea of my back-end thesis product (in progress for front-end and back-end).\n",
    "\n",
    "The idea of the project is to:\n",
    "* Open the document\n",
    "* Extract Hyperlinks (references)\n",
    "* Store the HyperLinks in the Local Database\n",
    "* Scrape data from each HyperLink\n",
    "* Compare the similarity of the self-writing document with data scraped from HyperLinks\n",
    "\n",
    "**Future**:\n",
    "* (in progress) Word2Vec, gensim\n",
    "* Improve the speed with big data\n",
    "* Return copied text"
   ]
  },
  {
   "cell_type": "markdown",
   "metadata": {},
   "source": [
    "# Preparation"
   ]
  },
  {
   "cell_type": "code",
   "execution_count": 1,
   "metadata": {},
   "outputs": [],
   "source": [
    "import numpy as np\n",
    "import PyPDF2\n",
    "from docx.opc.constants import RELATIONSHIP_TYPE as RT\n",
    "from docx import Document\n",
    "import urllib\n",
    "import pymysql\n",
    "from bs4 import BeautifulSoup  \n",
    "import requests, io, re\n",
    "import string\n",
    "from nltk.tokenize import word_tokenize, TreebankWordTokenizer\n",
    "from nltk.corpus import stopwords, wordnet\n",
    "from sklearn.feature_extraction.text import TfidfVectorizer, CountVectorizer\n",
    "from nltk.stem import WordNetLemmatizer\n",
    "from sklearn.metrics.pairwise import cosine_similarity\n"
   ]
  },
  {
   "cell_type": "code",
   "execution_count": 2,
   "metadata": {},
   "outputs": [],
   "source": [
    "def readFile(doc):\n",
    "    '''\n",
    "    Read a text file and return to a elements of a list\n",
    "    '''\n",
    "    fullText = []\n",
    "    for para in doc.paragraphs:\n",
    "        fullText.append(para.text)\n",
    "        \n",
    "    return '\\n'.join(fullText)    "
   ]
  },
  {
   "cell_type": "code",
   "execution_count": 3,
   "metadata": {},
   "outputs": [],
   "source": [
    "def onlRefs(rels):\n",
    "    '''\n",
    "    Extract all the hyperlinks (references) in the document\n",
    "    '''\n",
    "    links = []\n",
    "    for rel in rels:\n",
    "        if rels[rel].reltype == RT.HYPERLINK:\n",
    "            links.append(rels[rel]._target)\n",
    "            \n",
    "    return links"
   ]
  },
  {
   "cell_type": "code",
   "execution_count": 4,
   "metadata": {},
   "outputs": [],
   "source": [
    "def readContent(link):    \n",
    "    '''\n",
    "    Depend on the website (pdf or regular html)\n",
    "    Open the file and scrape the data of 01 site\n",
    "    Libraries used: \n",
    "    bs4 -> BeautifulSoup \n",
    "    requests, io, re\n",
    "    '''\n",
    "    \n",
    "    string = []\n",
    "   \n",
    "    # if the link is a pdf\n",
    "    if (r'.pdf' in link.split('/')[-1]):\n",
    "        title = link.split('/')[-1]\n",
    "        response = requests.get(link)\n",
    "        raw_data = response.content\n",
    "        pdf_content = io.BytesIO(raw_data)\n",
    "        pdf_reader = PyPDF2.PdfFileReader(pdf_content)\n",
    "        for page in range(pdf_reader.numPages):\n",
    "            string.append(pdf_reader.getPage(page).extractText())\n",
    "        return link, title, (' '.join(string))\n",
    "    \n",
    "    # if not\n",
    "    else:\n",
    "        def scrape_data():\n",
    "            '''\n",
    "            Return title + content of a webpage \n",
    "            '''\n",
    "            page = requests.get(link)\n",
    "            title = BeautifulSoup(page.text, 'html.parser').head.title.contents\n",
    "            text = BeautifulSoup(page.text, 'html.parser').find_all('p')\n",
    "            for p in text:\n",
    "                string.append(p.get_text())\n",
    "            return link, title, (' '.join(string).replace(u'\\xa0', ' ').replace(u'\\n', ' '))\n",
    "        \n",
    "        try:\n",
    "            return scrape_data()\n",
    "        \n",
    "        #some links need authentication\n",
    "        except:\n",
    "            \n",
    "            headers = {'User-Agent':'Mozilla/5.0'}             \n",
    "            #class AppURLopener(urllib.request.FancyURLopener):\n",
    "                #version = \"Mozilla/5.0\"\n",
    "            #opener = AppURLopener()\n",
    "            return scrape_data()"
   ]
  },
  {
   "cell_type": "code",
   "execution_count": 5,
   "metadata": {},
   "outputs": [],
   "source": [
    "def working_with_mySQL(readContent_result):\n",
    "    '''\n",
    "    Store (link, title, content) scraped from 01 website to local db\n",
    "    Return content\n",
    "    Library used: pymysql\n",
    "    '''\n",
    "    #Open database\n",
    "    db = pymysql.connect(host = '127.0.0.1',\n",
    "                          user = 'root',\n",
    "                           db = 'references')\n",
    "    \n",
    "    cursor = db.cursor()   \n",
    "    \n",
    "    #check distinct reference to add to the database\n",
    "    sql = \"INSERT INTO onlref (link, title, content) VALUES (%s, %s, %s)\"\n",
    "\n",
    "    try:\n",
    "        cursor.execute(sql, readContent_result)\n",
    "    except:\n",
    "        pass\n",
    "\n",
    "    #fetch all the links\n",
    "    cursor.execute('SELECT content FROM onlref')\n",
    "    data = cursor.fetchall()\n",
    "\n",
    "    db.commit()\n",
    "    db.close()\n",
    "        \n",
    "    return str(data[0])"
   ]
  },
  {
   "cell_type": "code",
   "execution_count": 6,
   "metadata": {},
   "outputs": [],
   "source": [
    "def getToken(text):\n",
    "    '''\n",
    "    Tokenise + Omit punctuation\n",
    "    Libraries: \n",
    "        nltk.tokenize -> word_tokenize, \n",
    "        nltk.corpus -> stopwords,\n",
    "        string\n",
    "    '''\n",
    "    translator = str.maketrans('', '', string.punctuation)\n",
    "    stopWords = set(stopwords.words('english'))\n",
    "    tokens = word_tokenize(text)\n",
    "    tokens = [token.lower() for token in tokens]\n",
    "    filtered = [w for w in tokens if not w in stopWords]\n",
    "    \n",
    "    return ' '.join(filtered).translate(translator).split()"
   ]
  },
  {
   "cell_type": "code",
   "execution_count": 7,
   "metadata": {},
   "outputs": [],
   "source": [
    "#in class\n",
    "def jaccard_similarity(document):\n",
    "    '''\n",
    "    Checking similarity using Jaccard Similarity\n",
    "    '''\n",
    "    lemmatize_a= []\n",
    "    lmt = WordNetLemmatizer()\n",
    "    tokens_a = set(getToken(readFile(document)))\n",
    "    percentage = []\n",
    "    rels = document.part.rels\n",
    "    \n",
    "    def lemmatize_append(set_tokens):\n",
    "        lemmatize_set = []\n",
    "        for wd in set_tokens:\n",
    "            lemmatize_set.append(lmt.lemmatize(wd))\n",
    "        return set(lemmatize_set)\n",
    "    \n",
    "    def jaccard(a, b, j):\n",
    "        return float(len(j)/(len(a) + len(b) - len(j)))\n",
    "    \n",
    "    lem_a = lemmatize_append(tokens_a)\n",
    "    \n",
    "    for link in onlRefs(rels):\n",
    "        lemmmatize_b = []\n",
    "        lem_b = lemmatize_append(getToken(working_with_mySQL(readContent(link))))\n",
    "        jac = lem_a.intersection(lem_b)\n",
    "        percentage.append(jaccard(lem_a, lem_b, jac))\n",
    "    \n",
    "    return np.mean(percentage)"
   ]
  },
  {
   "cell_type": "code",
   "execution_count": 8,
   "metadata": {},
   "outputs": [],
   "source": [
    "def cosine(document):\n",
    "    '''\n",
    "    Perform Cosine Similarity\n",
    "    '''\n",
    "    \n",
    "    tokenizer = TreebankWordTokenizer()\n",
    "    vect = CountVectorizer()\n",
    "    vect.set_params(tokenizer=tokenizer.tokenize, stop_words='english')\n",
    "    rels = document.part.rels\n",
    "    document = readFile(document)\n",
    "    doc = []\n",
    "    doc.append(document)\n",
    "    \n",
    "    for link in onlRefs(rels):\n",
    "        doc.append(working_with_mySQL(readContent(link)))\n",
    "        \n",
    "    tfidf = vect.fit_transform(doc)\n",
    "    return tfidf"
   ]
  },
  {
   "cell_type": "markdown",
   "metadata": {},
   "source": [
    "# Running test"
   ]
  },
  {
   "cell_type": "code",
   "execution_count": 9,
   "metadata": {},
   "outputs": [],
   "source": [
    "path = r'dir\\OrganisationalCourse.docx'\n",
    "_file = path.replace('\\\\', '/')"
   ]
  },
  {
   "cell_type": "code",
   "execution_count": 10,
   "metadata": {},
   "outputs": [],
   "source": [
    "#open the docx\n",
    "document = Document(_file) "
   ]
  },
  {
   "cell_type": "markdown",
   "metadata": {},
   "source": [
    "### Calculate The similarity + the executing time"
   ]
  },
  {
   "cell_type": "code",
   "execution_count": 11,
   "metadata": {},
   "outputs": [],
   "source": [
    "import time\n",
    "import pandas as pd"
   ]
  },
  {
   "cell_type": "code",
   "execution_count": 12,
   "metadata": {},
   "outputs": [],
   "source": [
    "run_time = []\n",
    "result = []\n",
    "\n",
    "start = time.time()\n",
    "result.append(jaccard_similarity(document))\n",
    "end = time.time()\n",
    "run_time.append(end-start)\n",
    "\n",
    "start = time.time()\n",
    "result.append(1 - cosine_similarity(cosine(document))[0][1])\n",
    "end = time.time()\n",
    "run_time.append(end-start)"
   ]
  },
  {
   "cell_type": "code",
   "execution_count": 13,
   "metadata": {},
   "outputs": [
    {
     "data": {
      "text/html": [
       "<div>\n",
       "<style scoped>\n",
       "    .dataframe tbody tr th:only-of-type {\n",
       "        vertical-align: middle;\n",
       "    }\n",
       "\n",
       "    .dataframe tbody tr th {\n",
       "        vertical-align: top;\n",
       "    }\n",
       "\n",
       "    .dataframe thead th {\n",
       "        text-align: right;\n",
       "    }\n",
       "</style>\n",
       "<table border=\"1\" class=\"dataframe\">\n",
       "  <thead>\n",
       "    <tr style=\"text-align: right;\">\n",
       "      <th></th>\n",
       "      <th>Method</th>\n",
       "      <th>Run_time</th>\n",
       "      <th>Similarity</th>\n",
       "    </tr>\n",
       "  </thead>\n",
       "  <tbody>\n",
       "    <tr>\n",
       "      <th>0</th>\n",
       "      <td>Jaccard Sim</td>\n",
       "      <td>38.275535</td>\n",
       "      <td>0.044603</td>\n",
       "    </tr>\n",
       "    <tr>\n",
       "      <th>1</th>\n",
       "      <td>Cosine Sim</td>\n",
       "      <td>24.831723</td>\n",
       "      <td>0.112675</td>\n",
       "    </tr>\n",
       "  </tbody>\n",
       "</table>\n",
       "</div>"
      ],
      "text/plain": [
       "        Method   Run_time  Similarity\n",
       "0  Jaccard Sim  38.275535    0.044603\n",
       "1   Cosine Sim  24.831723    0.112675"
      ]
     },
     "execution_count": 13,
     "metadata": {},
     "output_type": "execute_result"
    }
   ],
   "source": [
    "pd.DataFrame({\"Method\": [\"Jaccard Sim\", \"Cosine Sim\"],\n",
    "             \"Run_time\": run_time,\n",
    "             \"Similarity\": result})"
   ]
  }
 ],
 "metadata": {
  "kernelspec": {
   "display_name": "Python 3",
   "language": "python",
   "name": "python3"
  },
  "language_info": {
   "codemirror_mode": {
    "name": "ipython",
    "version": 3
   },
   "file_extension": ".py",
   "mimetype": "text/x-python",
   "name": "python",
   "nbconvert_exporter": "python",
   "pygments_lexer": "ipython3",
   "version": "3.6.5"
  }
 },
 "nbformat": 4,
 "nbformat_minor": 2
}
