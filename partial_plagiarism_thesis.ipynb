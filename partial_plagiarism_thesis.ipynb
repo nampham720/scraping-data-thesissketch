{
 "cells": [
  {
   "cell_type": "markdown",
   "metadata": {},
   "source": [
    "# Simple plagiarism check \n",
    "### Note:  The app is yet able to check similarity only\n",
    "\n",
    "This is the sketch for the idea of my back-end thesis product (in progress for front-end and back-end).\n",
    "\n",
    "The idea of the project is to:\n",
    "* Open the document\n",
    "* Extract Hyperlinks (references)\n",
    "* Store the HyperLinks in the Local Database\n",
    "* Scrape data from each HyperLink\n",
    "* Compare the similarity of the self-writing document with data scraped from HyperLinks\n",
    "* Take the mean -> Percentage of plagiarism\n",
    "\n",
    "**Future**:\n",
    "* Improve the speed with big data\n",
    "* Return copied text"
   ]
  },
  {
   "cell_type": "markdown",
   "metadata": {},
   "source": [
    "# Preparation"
   ]
  },
  {
   "cell_type": "code",
   "execution_count": 1,
   "metadata": {},
   "outputs": [],
   "source": [
    "import numpy as np\n",
    "import PyPDF2\n",
    "from docx.opc.constants import RELATIONSHIP_TYPE as RT\n",
    "from docx import Document\n",
    "import urllib\n",
    "import pymysql\n",
    "from bs4 import BeautifulSoup  \n",
    "import requests, io, re\n",
    "from nltk.tokenize import word_tokenize\n",
    "from nltk.corpus import stopwords\n",
    "import string\n",
    "from sklearn.feature_extraction.text import TfidfVectorizer"
   ]
  },
  {
   "cell_type": "code",
   "execution_count": 2,
   "metadata": {},
   "outputs": [],
   "source": [
    "def readFile(doc):\n",
    "    '''\n",
    "    Read a text file and return to a elements of a list\n",
    "    '''\n",
    "    fullText = []\n",
    "    for para in doc.paragraphs:\n",
    "        fullText.append(para.text)\n",
    "        \n",
    "    return '\\n'.join(fullText)    "
   ]
  },
  {
   "cell_type": "code",
   "execution_count": 3,
   "metadata": {},
   "outputs": [],
   "source": [
    "def onlRefs(rels):\n",
    "    '''\n",
    "    Extract all the hyperlinks (references) in the document\n",
    "    '''\n",
    "    links = []\n",
    "    for rel in rels:\n",
    "        if rels[rel].reltype == RT.HYPERLINK:\n",
    "            links.append(rels[rel]._target)\n",
    "            \n",
    "    return links"
   ]
  },
  {
   "cell_type": "code",
   "execution_count": 4,
   "metadata": {},
   "outputs": [],
   "source": [
    "def working_with_mySQL(onl_ref_results):\n",
    "    '''\n",
    "    Store all the links to local database\n",
    "    Once stored, return all the links for further work\n",
    "    library: pymysql\n",
    "    \n",
    "    my local databse is of only one table: onlref -> column: link (primary)\n",
    "    '''\n",
    "    #Open database\n",
    "    db = pymysql.connect(host = '127.0.0.1',\n",
    "                          user = 'root',\n",
    "                           db = 'references')\n",
    "    \n",
    "    cursor = db.cursor()   \n",
    "    \n",
    "    #check distinct reference to add the database\n",
    "    sql = \"INSERT INTO onlref (link) VALUES (%s)\"\n",
    "    for link in onl_ref_results:\n",
    "        try:\n",
    "            cursor.execute(sql, link)\n",
    "        except:\n",
    "            pass\n",
    "    \n",
    "    #fetch all the links\n",
    "    cursor.execute('SELECT link FROM onlref')\n",
    "    data = cursor.fetchall()\n",
    "\n",
    "    db.commit()\n",
    "    db.close()\n",
    "    \n",
    "    #append each link into a list\n",
    "    links = []    \n",
    "    for link in data:\n",
    "        links.append(link[0])\n",
    "    \n",
    "    return links"
   ]
  },
  {
   "cell_type": "code",
   "execution_count": 5,
   "metadata": {},
   "outputs": [],
   "source": [
    "def readContent(link):    \n",
    "    '''\n",
    "    Depend on the content of the website (pdf or regular html)\n",
    "    Open the file and scrape the data\n",
    "    libraries: bs4 -> BeautifulSoup with requests, io, re\n",
    "    '''\n",
    "    \n",
    "    string = []\n",
    "   \n",
    "    # if the link is a pdf\n",
    "    if (re.search(link.split('/')[-1], r'.pdf') is True):\n",
    "        response = requests.get(link)\n",
    "        raw_data = response.content\n",
    "        pdf_content = io.BytesIO(raw_data)\n",
    "        pdf_reader = PyPDF2.PdfFileReader(pdf_content)\n",
    "        for page in range(pdf_reader.numPages + 1):\n",
    "            string.append(pdf_reader.getPage(page).extractText())\n",
    "        return(' '.join(string))\n",
    "    \n",
    "    # if not\n",
    "    else:\n",
    "        try:\n",
    "            page = requests.get(link)\n",
    "            text = BeautifulSoup(page.text, 'html.parser').find_all('p')\n",
    "            for p in text:\n",
    "                string.append(p.get_text())\n",
    "            return(' '.join(string).replace(u'\\xa0', ' ').replace(u'\\n', ' '))\n",
    "        \n",
    "        #some links need authentication\n",
    "        except:\n",
    "            \n",
    "            headers = {'User-Agent':'Mozilla/5.0'}             \n",
    "            #class AppURLopener(urllib.request.FancyURLopener):\n",
    "                #version = \"Mozilla/5.0\"\n",
    "            #opener = AppURLopener()\n",
    "\n",
    "            #pullData\n",
    "            page = requests.get(link)\n",
    "            text = BeautifulSoup(page.text, 'html.parser').find_all('p')\n",
    "            for p in text:\n",
    "                string.append(p.get_text())\n",
    "            return(' '.join(string).replace(u'\\xa0', ' ').replace(u'\\n', ' '))"
   ]
  },
  {
   "cell_type": "code",
   "execution_count": 6,
   "metadata": {},
   "outputs": [],
   "source": [
    "def getToken(text):\n",
    "    '''\n",
    "    Tokenise + Omit punctuation\n",
    "    libraries: \n",
    "        nltk.tokenize -> word_tokenize, \n",
    "        nltk.corpus -> stopwords,\n",
    "        string\n",
    "    '''\n",
    "    translator = str.maketrans('', '', string.punctuation)\n",
    "    stopWords = set(stopwords.words('english'))\n",
    "    tokens = word_tokenize(text)\n",
    "    tokens = [token.lower() for token in tokens]\n",
    "    filtered = [w for w in tokens if not w in stopWords]\n",
    "    \n",
    "    return ' '.join(filtered).translate(translator)"
   ]
  },
  {
   "cell_type": "code",
   "execution_count": 7,
   "metadata": {},
   "outputs": [],
   "source": [
    "def get_content(links):\n",
    "    '''\n",
    "    Return all the contents into a list to check similarity\n",
    "    '''\n",
    "    base_refs = []\n",
    "    for link in links:\n",
    "        base_refs.append(readContent(link))\n",
    "        \n",
    "    return base_refs"
   ]
  },
  {
   "cell_type": "code",
   "execution_count": 8,
   "metadata": {},
   "outputs": [],
   "source": [
    "def check_similarity(document):\n",
    "    '''\n",
    "    Checking similarity using cosine difference\n",
    "    Library: sklearn.feature_extraction.text -> TfidVectorizer\n",
    "    '''\n",
    "    vect = TfidfVectorizer(min_df=1)\n",
    "    similarity = []\n",
    "    links = working_with_mySQL(onlRefs(rels))\n",
    "    \n",
    "    for content in get_content(links):\n",
    "        tfidf = vect.fit_transform([getToken(readFile(document)), content])\n",
    "        similarity.append((tfidf * tfidf.T).A[0,1])\n",
    "        \n",
    "    return np.mean(similarity)"
   ]
  },
  {
   "cell_type": "markdown",
   "metadata": {},
   "source": [
    "# Running test"
   ]
  },
  {
   "cell_type": "code",
   "execution_count": 9,
   "metadata": {},
   "outputs": [],
   "source": [
    "path = r'dir\\Organisational Course.docx'\n",
    "_file = path.replace('\\\\', '/')"
   ]
  },
  {
   "cell_type": "code",
   "execution_count": 10,
   "metadata": {},
   "outputs": [],
   "source": [
    "#open the docx\n",
    "document = Document(_file)\n",
    "rels = document.part.rels"
   ]
  },
  {
   "cell_type": "code",
   "execution_count": 11,
   "metadata": {},
   "outputs": [
    {
     "name": "stdout",
     "output_type": "stream",
     "text": [
      "Great work!\n"
     ]
    }
   ],
   "source": [
    "#Checking if there onlRefs works\n",
    "#Checking if the document has any references as required\n",
    "if (len(onlRefs(rels)) == 0):\n",
    "    print(\"No ref to check.\")\n",
    "    #raise Error('The document is missing references')\n",
    "else:\n",
    "    print(\"Great work!\")"
   ]
  },
  {
   "cell_type": "code",
   "execution_count": 12,
   "metadata": {},
   "outputs": [
    {
     "data": {
      "text/plain": [
       "0.06365056223859772"
      ]
     },
     "execution_count": 12,
     "metadata": {},
     "output_type": "execute_result"
    }
   ],
   "source": [
    "check_similarity(document)"
   ]
  }
 ],
 "metadata": {
  "kernelspec": {
   "display_name": "Python 3",
   "language": "python",
   "name": "python3"
  },
  "language_info": {
   "codemirror_mode": {
    "name": "ipython",
    "version": 3
   },
   "file_extension": ".py",
   "mimetype": "text/x-python",
   "name": "python",
   "nbconvert_exporter": "python",
   "pygments_lexer": "ipython3",
   "version": "3.6.5"
  }
 },
 "nbformat": 4,
 "nbformat_minor": 2
}
